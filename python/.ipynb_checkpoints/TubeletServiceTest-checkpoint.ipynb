{
 "cells": [
  {
   "cell_type": "markdown",
   "metadata": {},
   "source": [
    "# tubelet-service gRPC client reference/tutorial\n",
    "\n",
    "Before running this notebook please make sure to run the service. "
   ]
  },
  {
   "cell_type": "code",
   "execution_count": 7,
   "metadata": {},
   "outputs": [],
   "source": [
    "SERVICE_ENDPOINT = 'localhost:50051'\n",
    "\n",
    "DEFAULT_WINDOW_WIDTH = 320  # FIXME: should be configurable in service\n",
    "DEFAULT_WINDOW_HEIGHT = 200 # FIXME: should be configurable in service\n",
    "CLUSTERING_DISTANCE = 3.0 # FIXME: should be configurable in service"
   ]
  },
  {
   "cell_type": "markdown",
   "metadata": {},
   "source": [
    "### Client Initialization"
   ]
  },
  {
   "cell_type": "code",
   "execution_count": 8,
   "metadata": {},
   "outputs": [],
   "source": [
    "import grpc\n",
    "\n",
    "from tubelet_service_pb2_grpc import tubelet_serviceStub\n",
    "from tubelet_service_pb2 import Empty\n",
    "\n",
    "channel = grpc.insecure_channel(SERVICE_ENDPOINT)\n",
    "tubc = tubelet_serviceStub(channel)"
   ]
  },
  {
   "cell_type": "markdown",
   "metadata": {},
   "source": [
    "### get_version()"
   ]
  },
  {
   "cell_type": "code",
   "execution_count": 9,
   "metadata": {},
   "outputs": [
    {
     "name": "stdout",
     "output_type": "stream",
     "text": [
      "Version: 0.5.0\n"
     ]
    }
   ],
   "source": [
    "response = tubc.get_version(request=Empty())\n",
    "print(\"Version:\",response.version)"
   ]
  },
  {
   "cell_type": "markdown",
   "metadata": {},
   "source": [
    "### reset()\n",
    "\n",
    "Deletes all tubelets."
   ]
  },
  {
   "cell_type": "code",
   "execution_count": 10,
   "metadata": {},
   "outputs": [],
   "source": [
    "response = tubc.reset(request=Empty())"
   ]
  },
  {
   "cell_type": "markdown",
   "metadata": {},
   "source": [
    "### add_observation2d()\n",
    "\n",
    "Adds an observation at a given point. If that point already contains a tubelet, the observation is added to the existing tubelets."
   ]
  },
  {
   "cell_type": "code",
   "execution_count": 16,
   "metadata": {},
   "outputs": [
    {
     "name": "stdout",
     "output_type": "stream",
     "text": [
      "Adding point (10.000000,30.000000) of class 1 with prob=0.110000\n",
      "Adding point (11.000000,30.400000) of class 2 with prob=0.111000\n",
      "Adding point (10.000000,29.970000) of class 3 with prob=0.210000\n",
      "Adding point (10.500000,31.000000) of class 4 with prob=0.810000\n",
      "Adding point (9.800000,30.600000) of class 5 with prob=0.940000\n",
      "Adding point (40.000000,19.970000) of class 10 with prob=0.010000\n",
      "Adding point (60.500000,21.000000) of class 11 with prob=0.510000\n",
      "Adding point (70.800000,30.600000) of class 12 with prob=0.640000\n"
     ]
    }
   ],
   "source": [
    "from tubelet_service_pb2 import add_observation2d_request, point2d, observation\n",
    "\n",
    "observations = [\n",
    "    # The following points will be clustered in the same tubelet    \n",
    "    ( 10.0, 30.0, 1, 0.11 ),\n",
    "    ( 11.0, 30.4, 2, 0.111 ),\n",
    "    ( 10.0, 29.97, 3, 0.21 ),\n",
    "    ( 10.5, 31.0, 4, 0.81 ),\n",
    "    ( 9.8,  30.6, 5, 0.94 ),\n",
    "    \n",
    "    # The following points will be stored in new tubelets\n",
    "    ( 40.0, 19.97, 10, 0.01 ),\n",
    "    ( 60.5, 21.0, 11, 0.51 ),\n",
    "    ( 70.8,  30.6, 12, 0.64 )\n",
    "]\n",
    "\n",
    "response = tubc.reset(request=Empty())\n",
    "\n",
    "for obs in observations:\n",
    "    print(\"Adding point (%f,%f) of class %d with prob=%f\" % (obs[0], obs[1], obs[2], obs[3]) ) \n",
    "    response = tubc.add_observation2d(\n",
    "        request=add_observation2d_request(\n",
    "            pos = point2d(x=obs[0],y=obs[1]),\n",
    "            obs = observation(class_index=obs[2],prob=obs[3])\n",
    "        )\n",
    "    )"
   ]
  },
  {
   "cell_type": "markdown",
   "metadata": {},
   "source": [
    "### get_all_tubelets2d()\n",
    "\n",
    "Obtains all the tubelets in the tree for the current window"
   ]
  },
  {
   "cell_type": "code",
   "execution_count": 21,
   "metadata": {
    "scrolled": true
   },
   "outputs": [
    {
     "name": "stdout",
     "output_type": "stream",
     "text": [
      "Tubelet 0 pos {\n",
      "  x: 10.0\n",
      "  y: 30.0\n",
      "}\n",
      "observations {\n",
      "  class_index: 1\n",
      "  prob: 0.11\n",
      "}\n",
      "observations {\n",
      "  class_index: 2\n",
      "  prob: 0.111\n",
      "}\n",
      "observations {\n",
      "  class_index: 3\n",
      "  prob: 0.21\n",
      "}\n",
      "observations {\n",
      "  class_index: 4\n",
      "  prob: 0.81\n",
      "}\n",
      "observations {\n",
      "  class_index: 5\n",
      "  prob: 0.94\n",
      "}\n",
      "\n",
      "Tubelet 1 pos {\n",
      "  x: 40.0\n",
      "  y: 19.97\n",
      "}\n",
      "observations {\n",
      "  class_index: 10\n",
      "  prob: 0.01\n",
      "}\n",
      "\n",
      "Tubelet 2 pos {\n",
      "  x: 60.5\n",
      "  y: 21.0\n",
      "}\n",
      "observations {\n",
      "  class_index: 11\n",
      "  prob: 0.51\n",
      "}\n",
      "\n",
      "Tubelet 3 pos {\n",
      "  x: 70.8\n",
      "  y: 30.6\n",
      "}\n",
      "observations {\n",
      "  class_index: 12\n",
      "  prob: 0.64\n",
      "}\n",
      "\n",
      "Tubelet 4 pos {\n",
      "  x: 40.0\n",
      "  y: 50.0\n",
      "}\n",
      "observations {\n",
      "  prob: 0.14\n",
      "}\n",
      "\n"
     ]
    }
   ],
   "source": [
    "def print_all_tubelets():\n",
    "    response = tubc.get_all_tubelets2d(request=Empty())\n",
    "    index = 0\n",
    "    if len(response.tubelets)>0:\n",
    "        for t in response.tubelets:    \n",
    "            print(\"Tubelet %d\" % index, t)\n",
    "            index+=1\n",
    "            \n",
    "print_all_tubelets()            "
   ]
  },
  {
   "cell_type": "markdown",
   "metadata": {},
   "source": [
    "# Moving and clipping example\n",
    "\n",
    "All tubelets outside the viewing window are deleted with clip() function.\n",
    "Window starts at (0,0). After moving (dx=40,dy=0) all tubelets outside the new region: \n",
    "\n",
    "(x0=40,y0=0,x1=40+DEFAULT_WINDOW_WIDTH,y1=y0+DEFAULT_WINDOW_HEIGHT) \n",
    "\n",
    "will be deleted."
   ]
  },
  {
   "cell_type": "code",
   "execution_count": 26,
   "metadata": {
    "scrolled": true
   },
   "outputs": [
    {
     "name": "stdout",
     "output_type": "stream",
     "text": [
      "Adding point (10.000000,30.000000) of class 1 with prob=0.110000\n",
      "Adding point (11.000000,30.400000) of class 2 with prob=0.111000\n",
      "Adding point (10.000000,29.970000) of class 3 with prob=0.210000\n",
      "Adding point (10.500000,31.000000) of class 4 with prob=0.810000\n",
      "Adding point (9.800000,30.600000) of class 5 with prob=0.940000\n",
      "Adding point (40.000000,19.970000) of class 10 with prob=0.010000\n",
      "Adding point (60.500000,21.000000) of class 11 with prob=0.510000\n",
      "Adding point (70.800000,30.600000) of class 12 with prob=0.640000\n"
     ]
    },
    {
     "ename": "TypeError",
     "evalue": "__call__() got an unexpected keyword argument 'dx'",
     "output_type": "error",
     "traceback": [
      "\u001b[0;31m---------------------------------------------------------------------------\u001b[0m",
      "\u001b[0;31mTypeError\u001b[0m                                 Traceback (most recent call last)",
      "\u001b[0;32m<ipython-input-26-deb511b06b0c>\u001b[0m in \u001b[0;36m<module>\u001b[0;34m\u001b[0m\n\u001b[1;32m     27\u001b[0m \u001b[0;34m\u001b[0m\u001b[0m\n\u001b[1;32m     28\u001b[0m \u001b[0;31m# Move and clip\u001b[0m\u001b[0;34m\u001b[0m\u001b[0;34m\u001b[0m\u001b[0;34m\u001b[0m\u001b[0m\n\u001b[0;32m---> 29\u001b[0;31m \u001b[0mresponse\u001b[0m \u001b[0;34m=\u001b[0m \u001b[0mtubc\u001b[0m\u001b[0;34m.\u001b[0m\u001b[0mmove_window\u001b[0m\u001b[0;34m(\u001b[0m\u001b[0mdx\u001b[0m\u001b[0;34m=\u001b[0m\u001b[0;36m40\u001b[0m\u001b[0;34m,\u001b[0m\u001b[0mdy\u001b[0m\u001b[0;34m=\u001b[0m\u001b[0;36m0\u001b[0m\u001b[0;34m)\u001b[0m\u001b[0;34m\u001b[0m\u001b[0;34m\u001b[0m\u001b[0m\n\u001b[0m\u001b[1;32m     30\u001b[0m \u001b[0;31m#(x0=40,y0=0,x1=40+DEFAULT_WINDOW_WIDTH,y1=y0+DEFAULT_WINDOW_HEIGHT)\u001b[0m\u001b[0;34m\u001b[0m\u001b[0;34m\u001b[0m\u001b[0;34m\u001b[0m\u001b[0m\n",
      "\u001b[0;31mTypeError\u001b[0m: __call__() got an unexpected keyword argument 'dx'"
     ]
    }
   ],
   "source": [
    "from tubelet_service_pb2 import move_window_request\n",
    "\n",
    "observations = [\n",
    "    # The following points will be clustered in the same tubelet    \n",
    "    ( 10.0, 30.0, 1, 0.11 ),\n",
    "    ( 11.0, 30.4, 2, 0.111 ),\n",
    "    ( 10.0, 29.97, 3, 0.21 ),\n",
    "    ( 10.5, 31.0, 4, 0.81 ),\n",
    "    ( 9.8,  30.6, 5, 0.94 ),\n",
    "    \n",
    "    # The following points will be stored in new tubelets\n",
    "    ( 40.0, 19.97, 10, 0.01 ),\n",
    "    ( 60.5, 21.0, 11, 0.51 ),\n",
    "    ( 70.8,  30.6, 12, 0.64 )\n",
    "]\n",
    "\n",
    "# Reset\n",
    "response = tubc.reset(request=Empty())\n",
    "\n",
    "# Add observations\n",
    "for obs in observations:\n",
    "    print(\"Adding point (%f,%f) of class %d with prob=%f\" % (obs[0], obs[1], obs[2], obs[3]) ) \n",
    "    response = tubc.add_observation2d(\n",
    "        request=add_observation2d_request(\n",
    "            pos = point2d(x=obs[0],y=obs[1]),\n",
    "            obs = observation(class_index=obs[2],prob=obs[3])\n",
    "        )\n",
    "    )\n",
    "    \n",
    "# Move and clip\n",
    "response = tubc.move_window(dx=40,dy=0)\n",
    "#(x0=40,y0=0,x1=40+DEFAULT_WINDOW_WIDTH,y1=y0+DEFAULT_WINDOW_HEIGHT) "
   ]
  },
  {
   "cell_type": "code",
   "execution_count": 23,
   "metadata": {},
   "outputs": [
    {
     "name": "stdout",
     "output_type": "stream",
     "text": [
      "Tubelet 0 pos {\n",
      "  x: 10.0\n",
      "  y: 30.0\n",
      "}\n",
      "observations {\n",
      "  class_index: 1\n",
      "  prob: 0.11\n",
      "}\n",
      "observations {\n",
      "  class_index: 2\n",
      "  prob: 0.111\n",
      "}\n",
      "observations {\n",
      "  class_index: 3\n",
      "  prob: 0.21\n",
      "}\n",
      "observations {\n",
      "  class_index: 4\n",
      "  prob: 0.81\n",
      "}\n",
      "observations {\n",
      "  class_index: 5\n",
      "  prob: 0.94\n",
      "}\n",
      "\n",
      "Tubelet 1 pos {\n",
      "  x: 40.0\n",
      "  y: 19.97\n",
      "}\n",
      "observations {\n",
      "  class_index: 10\n",
      "  prob: 0.01\n",
      "}\n",
      "\n",
      "Tubelet 2 pos {\n",
      "  x: 60.5\n",
      "  y: 21.0\n",
      "}\n",
      "observations {\n",
      "  class_index: 11\n",
      "  prob: 0.51\n",
      "}\n",
      "\n",
      "Tubelet 3 pos {\n",
      "  x: 70.8\n",
      "  y: 30.6\n",
      "}\n",
      "observations {\n",
      "  class_index: 12\n",
      "  prob: 0.64\n",
      "}\n",
      "\n",
      "Tubelet 4 pos {\n",
      "  x: 40.0\n",
      "  y: 50.0\n",
      "}\n",
      "observations {\n",
      "  prob: 0.14\n",
      "}\n",
      "\n"
     ]
    }
   ],
   "source": [
    "print_all_tubelets()   "
   ]
  },
  {
   "cell_type": "markdown",
   "metadata": {},
   "source": [
    "### Client deinitialization"
   ]
  },
  {
   "cell_type": "code",
   "execution_count": null,
   "metadata": {},
   "outputs": [],
   "source": [
    "channel.close()"
   ]
  }
 ],
 "metadata": {
  "kernelspec": {
   "display_name": "Python 3",
   "language": "python",
   "name": "python3"
  },
  "language_info": {
   "codemirror_mode": {
    "name": "ipython",
    "version": 3
   },
   "file_extension": ".py",
   "mimetype": "text/x-python",
   "name": "python",
   "nbconvert_exporter": "python",
   "pygments_lexer": "ipython3",
   "version": "3.7.1"
  }
 },
 "nbformat": 4,
 "nbformat_minor": 2
}
